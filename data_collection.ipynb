{
 "cells": [
  {
   "cell_type": "code",
   "execution_count": 1,
   "id": "bd58a800",
   "metadata": {},
   "outputs": [],
   "source": [
    "import random\n",
    "random.seed(42)\n",
    "with open('words.txt') as f:\n",
    "    words = f.read().split('\\n')\n",
    "random.shuffle(words)"
   ]
  },
  {
   "cell_type": "code",
   "execution_count": null,
   "id": "2425f4f0",
   "metadata": {},
   "outputs": [],
   "source": [
    "from transformers import AutoTokenizer\n",
    "tokenizer = AutoTokenizer.from_pretrained('unsloth/Llama-3.2-1B-Instruct')\n",
    "\n",
    "def create_example(word: str):\n",
    "    word = word.lower()\n",
    "    character = '.'\n",
    "    while character not in 'abcdefghijklmnopqrstuvwxyz':\n",
    "        character = random.choice(word)\n",
    "    charCount = word.count(character)\n",
    "    prompt = tokenizer.apply_chat_template([\n",
    "        {\n",
    "            'role': \"user\",\n",
    "            'content': f\"How many {character}'s are in {word}?\"\n",
    "        },\n",
    "        {\n",
    "            'role': \"assistant\",\n",
    "            'content': f\"{word} has {charCount} {character}'s.\"\n",
    "        },\n",
    "    ], tokenize=False)\n",
    "    return prompt"
   ]
  },
  {
   "cell_type": "code",
   "execution_count": 4,
   "id": "2bb17cee",
   "metadata": {},
   "outputs": [],
   "source": [
    "train = []\n",
    "test = []\n",
    "for i in range(10000):\n",
    "    train.append(create_example(words[i]))\n",
    "for i in range(10000,10100):\n",
    "    test.append(create_example(words[i]))"
   ]
  },
  {
   "cell_type": "code",
   "execution_count": 5,
   "id": "798643a5",
   "metadata": {},
   "outputs": [],
   "source": [
    "import json\n",
    "with open('train.json','w') as f:\n",
    "    json.dump(train,f)\n",
    "with open('test.json','w') as f:\n",
    "    json.dump(test,f)"
   ]
  },
  {
   "cell_type": "code",
   "execution_count": null,
   "id": "5e3ece29",
   "metadata": {},
   "outputs": [],
   "source": []
  }
 ],
 "metadata": {
  "kernelspec": {
   "display_name": "metatraining-env",
   "language": "python",
   "name": "python3"
  },
  "language_info": {
   "codemirror_mode": {
    "name": "ipython",
    "version": 3
   },
   "file_extension": ".py",
   "mimetype": "text/x-python",
   "name": "python",
   "nbconvert_exporter": "python",
   "pygments_lexer": "ipython3",
   "version": "3.12.9"
  }
 },
 "nbformat": 4,
 "nbformat_minor": 5
}
